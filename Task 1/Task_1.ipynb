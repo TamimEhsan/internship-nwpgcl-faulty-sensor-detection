{
  "nbformat": 4,
  "nbformat_minor": 0,
  "metadata": {
    "colab": {
      "provenance": [],
      "include_colab_link": true
    },
    "kernelspec": {
      "name": "python3",
      "display_name": "Python 3"
    },
    "language_info": {
      "name": "python"
    }
  },
  "cells": [
    {
      "cell_type": "markdown",
      "metadata": {
        "id": "view-in-github",
        "colab_type": "text"
      },
      "source": [
        "<a href=\"https://colab.research.google.com/github/TamimEhsan/internship-nwpgcl/blob/master/Task%201/Task_1.ipynb\" target=\"_parent\"><img src=\"https://colab.research.google.com/assets/colab-badge.svg\" alt=\"Open In Colab\"/></a>"
      ]
    },
    {
      "cell_type": "code",
      "execution_count": null,
      "metadata": {
        "colab": {
          "base_uri": "https://localhost:8080/"
        },
        "id": "agS2F0vCUF81",
        "outputId": "c06cdbfc-98e4-44be-a49b-55963fba310b"
      },
      "outputs": [
        {
          "output_type": "stream",
          "name": "stdout",
          "text": [
            "['.config', '.ipynb_checkpoints', 'Input', 'sample_data']\n",
            "Setup Complete\n"
          ]
        }
      ],
      "source": [
        "# Set up code checking\n",
        "import os\n",
        "if not os.path.exists(\"Input/input.csv\"):\n",
        "  print(\"error\")\n",
        "print(os.listdir())\n",
        "print(\"Setup Complete\")"
      ]
    },
    {
      "cell_type": "code",
      "source": [
        "import numpy as np\n",
        "import pandas as pd\n",
        "\n",
        "data = pd.read_csv('Input/input.csv')\n",
        "# print(data.head())\n",
        "y = data.fault\n",
        "X = data.copy()\n",
        "X = X.drop(X.columns[-1], axis=1)\n",
        "X_main = X.copy()\n",
        "y_main = y.copy()\n",
        "print(data.shape)\n",
        "print(X.shape)\n",
        "print(y.shape)\n"
      ],
      "metadata": {
        "colab": {
          "base_uri": "https://localhost:8080/"
        },
        "id": "Xalzt3erWfIH",
        "outputId": "37e65677-783d-437a-b1d3-db5784781606"
      },
      "execution_count": null,
      "outputs": [
        {
          "output_type": "stream",
          "name": "stdout",
          "text": [
            "(87, 37)\n",
            "(87, 36)\n",
            "(87,)\n"
          ]
        }
      ]
    },
    {
      "cell_type": "code",
      "source": [
        "# Hold out classification\n",
        "from sklearn.model_selection import train_test_split\n",
        "\n",
        "X_training, X_testing, y_training, y_testing = train_test_split(\n",
        "    X_main, y_main, test_size=0.4,random_state=42\n",
        ")\n",
        "from sklearn import svm\n",
        "\n",
        "model = svm.SVC(kernel=\"rbf\")\n",
        "\n",
        "model.fit(X_training, y_training)\n",
        "\n",
        "predictions = model.predict(X_testing)\n",
        "\n",
        "from sklearn.metrics import accuracy_score\n",
        "acc = accuracy_score(y_testing, predictions)\n",
        "\n",
        "print(acc)\n",
        "\n",
        "from sklearn.metrics import confusion_matrix\n",
        "from sklearn.metrics import ConfusionMatrixDisplay\n",
        "\n",
        "cm = confusion_matrix(y_testing, predictions)\n",
        "cm_display = ConfusionMatrixDisplay(cm).plot()"
      ],
      "metadata": {
        "id": "_8EIgclHY-VF",
        "colab": {
          "base_uri": "https://localhost:8080/",
          "height": 467
        },
        "outputId": "480c8177-57b9-48cb-a84f-b3b5eabad3cd"
      },
      "execution_count": null,
      "outputs": [
        {
          "output_type": "stream",
          "name": "stdout",
          "text": [
            "0.5428571428571428\n"
          ]
        },
        {
          "output_type": "display_data",
          "data": {
            "text/plain": [
              "<Figure size 640x480 with 2 Axes>"
            ],
            "image/png": "[encoded data removed]"
          },
          "metadata": {}
        }
      ]
    },
    {
      "cell_type": "code",
      "source": [
        "# K fold classification\n",
        "from sklearn.model_selection import KFold\n",
        "from sklearn.model_selection import cross_val_score\n",
        "cv = KFold(n_splits=3, shuffle=True, random_state=42)\n",
        "val_score = cross_val_score(model, X=X, y=y, cv=cv)\n",
        "\n",
        "print(val_score)"
      ],
      "metadata": {
        "id": "v3EpVOfJbbLx",
        "colab": {
          "base_uri": "https://localhost:8080/"
        },
        "outputId": "0e826afb-ee4b-45ae-9653-610ecf7b45b9"
      },
      "execution_count": null,
      "outputs": [
        {
          "output_type": "stream",
          "name": "stdout",
          "text": [
            "[0.51724138 0.62068966 0.65517241]\n"
          ]
        }
      ]
    },
    {
      "cell_type": "code",
      "source": [
        "from sklearn.model_selection import cross_val_score\n",
        "clf = svm.SVC(kernel='linear', C=1, random_state=42)\n",
        "scores = cross_val_score(clf, X, y, cv=3)\n",
        "print(scores)"
      ],
      "metadata": {
        "id": "AJ5ocqpAeXYm",
        "outputId": "2540aa76-3354-49d1-cffa-c3871b31996c",
        "colab": {
          "base_uri": "https://localhost:8080/"
        }
      },
      "execution_count": null,
      "outputs": [
        {
          "output_type": "stream",
          "name": "stdout",
          "text": [
            "[0.62068966 0.65517241 0.62068966]\n"
          ]
        }
      ]
    },
    {
      "cell_type": "code",
      "source": [
        "# logistics regression\n",
        "from sklearn.linear_model import LogisticRegression\n",
        "\n",
        "X_training, X_testing, y_training, y_testing = train_test_split(\n",
        "    X_main, y_main, test_size=0.4,random_state=42\n",
        ")\n",
        "model = LogisticRegression(solver='liblinear', random_state=42)\n",
        "model.fit(X_training, y_training)\n",
        "\n",
        "predictions = model.predict(X_testing)\n",
        "\n",
        "from sklearn.metrics import accuracy_score\n",
        "acc = accuracy_score(y_testing, predictions)\n",
        "\n",
        "print(acc)\n",
        "\n",
        "from sklearn.metrics import confusion_matrix\n",
        "from sklearn.metrics import ConfusionMatrixDisplay\n",
        "\n",
        "cm = confusion_matrix(y_testing, predictions)\n",
        "cm_display = ConfusionMatrixDisplay(cm).plot()\n"
      ],
      "metadata": {
        "id": "tRQu3diYgH-I",
        "colab": {
          "base_uri": "https://localhost:8080/",
          "height": 473
        },
        "outputId": "f6313179-326c-461b-8e9e-6d82ecf1a7f7"
      },
      "execution_count": null,
      "outputs": [
        {
          "output_type": "stream",
          "name": "stdout",
          "text": [
            "0.5714285714285714\n"
          ]
        },
        {
          "output_type": "display_data",
          "data": {
            "text/plain": [
              "<Figure size 640x480 with 2 Axes>"
            ],
            "image/png": "[encoded data removed]"
          },
          "metadata": {}
        }
      ]
    }
  ]
}